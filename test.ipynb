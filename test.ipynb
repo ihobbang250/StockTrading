{
 "cells": [
  {
   "cell_type": "code",
   "execution_count": 1,
   "metadata": {},
   "outputs": [
    {
     "name": "stderr",
     "output_type": "stream",
     "text": [
      "c:\\Users\\ihobbang\\anaconda3\\envs\\trading\\lib\\site-packages\\numpy\\core\\getlimits.py:172: RuntimeWarning: divide by zero encountered in exp2\n",
      "  eps=exp2(ld(-112)),\n",
      "c:\\Users\\ihobbang\\anaconda3\\envs\\trading\\lib\\site-packages\\numpy\\core\\getlimits.py:51: RuntimeWarning: divide by zero encountered in log10\n",
      "  self.precision = int(-log10(self.eps))\n",
      "c:\\Users\\ihobbang\\anaconda3\\envs\\trading\\lib\\site-packages\\numpy\\core\\getlimits.py:52: RuntimeWarning: divide by zero encountered in power\n",
      "  self.resolution = float_to_float(float_conv(10) ** (-self.precision))\n",
      "c:\\Users\\ihobbang\\anaconda3\\envs\\trading\\lib\\site-packages\\numpy\\core\\getlimits.py:184: RuntimeWarning: divide by zero encountered in exp2\n",
      "  epsneg_f80 = exp2(ld(-64))\n",
      "c:\\Users\\ihobbang\\anaconda3\\envs\\trading\\lib\\site-packages\\numpy\\core\\getlimits.py:185: RuntimeWarning: divide by zero encountered in exp2\n",
      "  tiny_f80 = exp2(ld(-16382))\n",
      "c:\\Users\\ihobbang\\anaconda3\\envs\\trading\\lib\\site-packages\\numpy\\core\\getlimits.py:199: RuntimeWarning: divide by zero encountered in exp2\n",
      "  eps=exp2(ld(-63)),\n",
      "c:\\Users\\ihobbang\\anaconda3\\envs\\trading\\lib\\site-packages\\numpy\\core\\getlimits.py:211: RuntimeWarning: divide by zero encountered in nextafter\n",
      "  huge_dd = (umath.nextafter(ld(inf), ld(0))\n",
      "c:\\Users\\ihobbang\\anaconda3\\envs\\trading\\lib\\site-packages\\numpy\\core\\getlimits.py:224: RuntimeWarning: divide by zero encountered in exp2\n",
      "  eps=exp2(ld(-105)),\n",
      "c:\\Users\\ihobbang\\anaconda3\\envs\\trading\\lib\\site-packages\\numpy\\core\\getlimits.py:225: RuntimeWarning: divide by zero encountered in exp2\n",
      "  epsneg= exp2(ld(-106)),\n",
      "c:\\Users\\ihobbang\\anaconda3\\envs\\trading\\lib\\site-packages\\numpy\\core\\getlimits.py:227: RuntimeWarning: divide by zero encountered in exp2\n",
      "  tiny=exp2(ld(-1022)))\n",
      "c:\\Users\\ihobbang\\anaconda3\\envs\\trading\\lib\\site-packages\\numpy\\__init__.py:340: RuntimeWarning: divide by zero encountered in subtract\n",
      "  if not abs(x.dot(x) - 2.0) < 1e-5:\n",
      "c:\\Users\\ihobbang\\anaconda3\\envs\\trading\\lib\\site-packages\\numpy\\__init__.py:340: RuntimeWarning: divide by zero encountered in absolute\n",
      "  if not abs(x.dot(x) - 2.0) < 1e-5:\n",
      "<frozen importlib._bootstrap>:219: RuntimeWarning: divide by zero encountered in add\n"
     ]
    },
    {
     "name": "stdout",
     "output_type": "stream",
     "text": [
      "connected\n",
      "8046689711 8046689711;\n"
     ]
    }
   ],
   "source": [
    "from api.Kiwoom import *\n",
    "import sys\n",
    "from PyQt5.QtWidgets import QApplication\n",
    "\n",
    "app = QApplication(sys.argv)\n",
    "kiwoom = Kiwoom()"
   ]
  },
  {
   "cell_type": "code",
   "execution_count": 17,
   "metadata": {},
   "outputs": [],
   "source": [
    "# Buy Order Code\n",
    "order_result = kiwoom.send_order('send_buy_order', '1001', 1, '252670', 3000, 2540, '00')\n",
    "print(order_result)"
   ]
  },
  {
   "cell_type": "code",
   "execution_count": 2,
   "metadata": {},
   "outputs": [
    {
     "name": "stdout",
     "output_type": "stream",
     "text": [
      "[Kiwoom] _on_receive_msg is called 0002 / opw00018_req / opw00018 / [100000] 모의투자 조회완료\n",
      "[Kiwoom] _on_receive_tr_data is called 0002 / opw00018_req / opw00018\n",
      "{'252670': {'종목명': 'KODEX 200선물인버스2X', '보유수량': 4001, '매입가': 2537, '수익률': 0.21, '현재가': 2560, '매입금액': 10150140, '매매가능수량': 4001}}\n"
     ]
    }
   ],
   "source": [
    "# Get balance\n",
    "acc_balance = kiwoom.get_balance()\n",
    "print(acc_balance)"
   ]
  },
  {
   "cell_type": "code",
   "execution_count": 3,
   "metadata": {},
   "outputs": [
    {
     "name": "stdout",
     "output_type": "stream",
     "text": [
      "[Kiwoom] _on_receive_tr_data is called 0001 / opt10081_req / opt10081\n",
      "[Kiwoom] _on_receive_tr_data is called 0001 / opt10081_req / opt10081\n",
      "[Kiwoom] _on_receive_tr_data is called 0001 / opt10081_req / opt10081\n",
      "          open   high   low  close     volume\n",
      "20160922  9835   9845  9720   9815    7849515\n",
      "20160923  9755   9840  9755   9820    9775392\n",
      "20160926  9840   9910  9735   9875   10065403\n",
      "20160927  9975  10040  9705   9745   15822705\n",
      "20160928  9765   9820  9745   9805    9475753\n",
      "...        ...    ...   ...    ...        ...\n",
      "20230525  2560   2610  2560   2595  105258761\n",
      "20230526  2585   2600  2560   2575   94793705\n",
      "20230530  2530   2540  2505   2505  123539138\n",
      "20230531  2515   2545  2495   2545  107062657\n",
      "20230601  2555   2575  2535   2560  117227459\n",
      "\n",
      "[1648 rows x 5 columns]\n"
     ]
    },
    {
     "name": "stderr",
     "output_type": "stream",
     "text": [
      "c:\\Users\\ihobbang\\anaconda3\\envs\\trading\\lib\\site-packages\\numpy\\core\\_methods.py:56: RuntimeWarning: divide by zero encountered in reduce\n",
      "  return umr_any(a, axis, dtype, out, keepdims)\n",
      "c:\\Users\\ihobbang\\anaconda3\\envs\\trading\\lib\\site-packages\\pandas\\core\\internals\\managers.py:246: RuntimeWarning: divide by zero encountered in equal\n",
      "  if (new_blknos == -1).any():\n",
      "c:\\Users\\ihobbang\\anaconda3\\envs\\trading\\lib\\site-packages\\numpy\\core\\_methods.py:39: RuntimeWarning: divide by zero encountered in reduce\n",
      "  return umr_maximum(a, axis, None, out, keepdims, initial, where)\n",
      "c:\\Users\\ihobbang\\anaconda3\\envs\\trading\\lib\\site-packages\\pandas\\io\\formats\\string.py:116: RuntimeWarning: divide by zero encountered in long_scalars\n",
      "  lwidth -= np.array([self.adj.len(x) for x in idx]).max() + adjoin_width\n",
      "c:\\Users\\ihobbang\\anaconda3\\envs\\trading\\lib\\site-packages\\pandas\\io\\formats\\string.py:190: RuntimeWarning: divide by zero encountered in long_scalars\n",
      "  w_adjoined = w + adjoin_width\n",
      "c:\\Users\\ihobbang\\anaconda3\\envs\\trading\\lib\\site-packages\\pandas\\io\\formats\\string.py:191: RuntimeWarning: divide by zero encountered in long_scalars\n",
      "  curr_width += w_adjoined\n",
      "c:\\Users\\ihobbang\\anaconda3\\envs\\trading\\lib\\site-packages\\pandas\\io\\formats\\string.py:195: RuntimeWarning: divide by zero encountered in long_scalars\n",
      "  wrap = curr_width + 2 > line_width and i > 0\n",
      "c:\\Users\\ihobbang\\anaconda3\\envs\\trading\\lib\\site-packages\\pandas\\io\\formats\\string.py:193: RuntimeWarning: divide by zero encountered in long_scalars\n",
      "  wrap = curr_width + 1 > line_width and i > 0\n"
     ]
    }
   ],
   "source": [
    "price_value = kiwoom.get_price_data(252670)\n",
    "print(price_value)"
   ]
  }
 ],
 "metadata": {
  "kernelspec": {
   "display_name": "trading",
   "language": "python",
   "name": "python3"
  },
  "language_info": {
   "codemirror_mode": {
    "name": "ipython",
    "version": 3
   },
   "file_extension": ".py",
   "mimetype": "text/x-python",
   "name": "python",
   "nbconvert_exporter": "python",
   "pygments_lexer": "ipython3",
   "version": "3.8.10"
  },
  "orig_nbformat": 4
 },
 "nbformat": 4,
 "nbformat_minor": 2
}
