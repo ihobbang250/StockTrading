{
 "cells": [
  {
   "cell_type": "code",
   "execution_count": 1,
   "metadata": {},
   "outputs": [
    {
     "name": "stderr",
     "output_type": "stream",
     "text": [
      "c:\\Users\\ihobbang\\anaconda3\\envs\\trade_env\\lib\\site-packages\\numpy\\core\\getlimits.py:174: RuntimeWarning: divide by zero encountered in exp2\n",
      "  eps=exp2(ld(-112)),\n",
      "c:\\Users\\ihobbang\\anaconda3\\envs\\trade_env\\lib\\site-packages\\numpy\\core\\getlimits.py:53: RuntimeWarning: divide by zero encountered in log10\n",
      "  self.precision = int(-log10(self.eps))\n",
      "c:\\Users\\ihobbang\\anaconda3\\envs\\trade_env\\lib\\site-packages\\numpy\\core\\getlimits.py:54: RuntimeWarning: divide by zero encountered in power\n",
      "  self.resolution = float_to_float(float_conv(10) ** (-self.precision))\n",
      "c:\\Users\\ihobbang\\anaconda3\\envs\\trade_env\\lib\\site-packages\\numpy\\core\\getlimits.py:186: RuntimeWarning: divide by zero encountered in exp2\n",
      "  epsneg_f80 = exp2(ld(-64))\n",
      "c:\\Users\\ihobbang\\anaconda3\\envs\\trade_env\\lib\\site-packages\\numpy\\core\\getlimits.py:187: RuntimeWarning: divide by zero encountered in exp2\n",
      "  tiny_f80 = exp2(ld(-16382))\n",
      "c:\\Users\\ihobbang\\anaconda3\\envs\\trade_env\\lib\\site-packages\\numpy\\core\\getlimits.py:201: RuntimeWarning: divide by zero encountered in exp2\n",
      "  eps=exp2(ld(-63)),\n",
      "c:\\Users\\ihobbang\\anaconda3\\envs\\trade_env\\lib\\site-packages\\numpy\\core\\getlimits.py:213: RuntimeWarning: divide by zero encountered in nextafter\n",
      "  huge_dd = (umath.nextafter(ld(inf), ld(0))\n",
      "c:\\Users\\ihobbang\\anaconda3\\envs\\trade_env\\lib\\site-packages\\numpy\\core\\getlimits.py:226: RuntimeWarning: divide by zero encountered in exp2\n",
      "  eps=exp2(ld(-105)),\n",
      "c:\\Users\\ihobbang\\anaconda3\\envs\\trade_env\\lib\\site-packages\\numpy\\core\\getlimits.py:227: RuntimeWarning: divide by zero encountered in exp2\n",
      "  epsneg= exp2(ld(-106)),\n",
      "c:\\Users\\ihobbang\\anaconda3\\envs\\trade_env\\lib\\site-packages\\numpy\\core\\getlimits.py:229: RuntimeWarning: divide by zero encountered in exp2\n",
      "  tiny=exp2(ld(-1022)))\n",
      "c:\\Users\\ihobbang\\anaconda3\\envs\\trade_env\\lib\\site-packages\\numpy\\__init__.py:249: RuntimeWarning: divide by zero encountered in subtract\n",
      "  if not abs(x.dot(x) - 2.0) < 1e-5:\n",
      "c:\\Users\\ihobbang\\anaconda3\\envs\\trade_env\\lib\\site-packages\\numpy\\__init__.py:249: RuntimeWarning: divide by zero encountered in absolute\n",
      "  if not abs(x.dot(x) - 2.0) < 1e-5:\n",
      "<frozen importlib._bootstrap>:219: RuntimeWarning: divide by zero encountered in add\n",
      "c:\\Users\\ihobbang\\anaconda3\\envs\\trade_env\\lib\\site-packages\\pandas\\tseries\\offsets.py:2547: RuntimeWarning: divide by zero encountered in add\n",
      "  _inc = Timedelta(microseconds=1000)\n",
      "c:\\Users\\ihobbang\\anaconda3\\envs\\trade_env\\lib\\site-packages\\pandas\\tseries\\offsets.py:2679: RuntimeWarning: divide by zero encountered in add\n",
      "  _inc = Timedelta(days=1)\n",
      "c:\\Users\\ihobbang\\anaconda3\\envs\\trade_env\\lib\\site-packages\\pandas\\tseries\\offsets.py:2684: RuntimeWarning: divide by zero encountered in add\n",
      "  _inc = Timedelta(hours=1)\n",
      "c:\\Users\\ihobbang\\anaconda3\\envs\\trade_env\\lib\\site-packages\\pandas\\tseries\\offsets.py:2689: RuntimeWarning: divide by zero encountered in add\n",
      "  _inc = Timedelta(minutes=1)\n",
      "c:\\Users\\ihobbang\\anaconda3\\envs\\trade_env\\lib\\site-packages\\pandas\\tseries\\offsets.py:2694: RuntimeWarning: divide by zero encountered in add\n",
      "  _inc = Timedelta(seconds=1)\n",
      "c:\\Users\\ihobbang\\anaconda3\\envs\\trade_env\\lib\\site-packages\\pandas\\tseries\\offsets.py:2699: RuntimeWarning: divide by zero encountered in add\n",
      "  _inc = Timedelta(milliseconds=1)\n",
      "c:\\Users\\ihobbang\\anaconda3\\envs\\trade_env\\lib\\site-packages\\pandas\\tseries\\offsets.py:2704: RuntimeWarning: divide by zero encountered in add\n",
      "  _inc = Timedelta(microseconds=1)\n",
      "c:\\Users\\ihobbang\\anaconda3\\envs\\trade_env\\lib\\site-packages\\pandas\\tseries\\offsets.py:2709: RuntimeWarning: divide by zero encountered in add\n",
      "  _inc = Timedelta(nanoseconds=1)\n"
     ]
    },
    {
     "name": "stdout",
     "output_type": "stream",
     "text": [
      "connected\n",
      "8046689711 8046689711;\n"
     ]
    }
   ],
   "source": [
    "from api.Kiwoom import *\n",
    "import sys\n",
    "from PyQt5.QtWidgets import QApplication\n",
    "\n",
    "app = QApplication(sys.argv)\n",
    "kiwoom = Kiwoom()"
   ]
  },
  {
   "cell_type": "code",
   "execution_count": 17,
   "metadata": {},
   "outputs": [],
   "source": [
    "# Buy Order Code\n",
    "order_result = kiwoom.send_order('send_buy_order', '1001', 1, '252670', 3000, 2540, '00')\n",
    "print(order_result)"
   ]
  },
  {
   "cell_type": "code",
   "execution_count": 2,
   "metadata": {},
   "outputs": [
    {
     "name": "stdout",
     "output_type": "stream",
     "text": [
      "[Kiwoom] _on_receive_msg is called 0002 / opw00018_req / opw00018 / [100000] 모의투자 조회완료\n",
      "[Kiwoom] _on_receive_tr_data is called 0002 / opw00018_req / opw00018\n",
      "{'252670': {'종목명': 'KODEX 200선물인버스2X', '보유수량': 4001, '매입가': 2537, '수익률': -2.54, '현재가': 2490, '매입금액': 10150140, '매매가능수량': 4001}}\n"
     ]
    }
   ],
   "source": [
    "# Get balance\n",
    "acc_balance = kiwoom.get_balance()\n",
    "print(acc_balance)"
   ]
  },
  {
   "cell_type": "code",
   "execution_count": 5,
   "metadata": {},
   "outputs": [],
   "source": [
    "fids = get_fid(\"체결시간\")\n",
    "kiwoom.set_real_reg(\"1000\", '252670', fids, \"0\")"
   ]
  },
  {
   "cell_type": "code",
   "execution_count": 6,
   "metadata": {},
   "outputs": [
    {
     "name": "stderr",
     "output_type": "stream",
     "text": [
      "c:\\Users\\ihobbang\\anaconda3\\envs\\trade_env\\lib\\site-packages\\pandas\\core\\internals\\managers.py:226: RuntimeWarning: divide by zero encountered in equal\n",
      "  if (new_blknos == -1).any():\n",
      "c:\\Users\\ihobbang\\anaconda3\\envs\\trade_env\\lib\\site-packages\\numpy\\core\\_methods.py:45: RuntimeWarning: divide by zero encountered in reduce\n",
      "  return umr_any(a, axis, dtype, out, keepdims)\n",
      "c:\\Users\\ihobbang\\anaconda3\\envs\\trade_env\\lib\\site-packages\\pandas\\core\\window\\rolling.py:277: RuntimeWarning: divide by zero encountered in isinf\n",
      "  inf = np.isinf(values)\n",
      "c:\\Users\\ihobbang\\anaconda3\\envs\\trade_env\\lib\\site-packages\\numpy\\core\\numeric.py:2327: RuntimeWarning: divide by zero encountered in equal\n",
      "  return bool(asarray(a1 == a2).all())\n",
      "c:\\Users\\ihobbang\\anaconda3\\envs\\trade_env\\lib\\site-packages\\numpy\\core\\_methods.py:48: RuntimeWarning: divide by zero encountered in reduce\n",
      "  return umr_all(a, axis, dtype, out, keepdims)\n",
      "c:\\Users\\ihobbang\\anaconda3\\envs\\trade_env\\lib\\site-packages\\numpy\\core\\_methods.py:45: RuntimeWarning: divide by zero encountered in reduce\n",
      "  return umr_any(a, axis, dtype, out, keepdims)\n",
      "c:\\Users\\ihobbang\\anaconda3\\envs\\trade_env\\lib\\site-packages\\pandas\\core\\dtypes\\missing.py:262: RuntimeWarning: divide by zero encountered in isnan\n",
      "  result = np.isnan(values)\n",
      "c:\\Users\\ihobbang\\anaconda3\\envs\\trade_env\\lib\\site-packages\\pandas\\io\\formats\\format.py:1373: RuntimeWarning: divide by zero encountered in invert\n",
      "  imask = (~mask).ravel()\n",
      "c:\\Users\\ihobbang\\anaconda3\\envs\\trade_env\\lib\\site-packages\\pandas\\io\\formats\\format.py:1416: RuntimeWarning: divide by zero encountered in absolute\n",
      "  abs_vals = np.abs(self.values)\n",
      "c:\\Users\\ihobbang\\anaconda3\\envs\\trade_env\\lib\\site-packages\\pandas\\io\\formats\\format.py:1420: RuntimeWarning: divide by zero encountered in greater\n",
      "  has_large_values = (abs_vals > 1e6).any()\n",
      "c:\\Users\\ihobbang\\anaconda3\\envs\\trade_env\\lib\\site-packages\\pandas\\io\\formats\\format.py:1422: RuntimeWarning: divide by zero encountered in less\n",
      "  (abs_vals < 10 ** (-self.digits)) & (abs_vals > 0)\n",
      "c:\\Users\\ihobbang\\anaconda3\\envs\\trade_env\\lib\\site-packages\\pandas\\io\\formats\\format.py:1422: RuntimeWarning: divide by zero encountered in greater\n",
      "  (abs_vals < 10 ** (-self.digits)) & (abs_vals > 0)\n",
      "c:\\Users\\ihobbang\\anaconda3\\envs\\trade_env\\lib\\site-packages\\pandas\\io\\formats\\format.py:1422: RuntimeWarning: divide by zero encountered in bitwise_and\n",
      "  (abs_vals < 10 ** (-self.digits)) & (abs_vals > 0)\n",
      "c:\\Users\\ihobbang\\anaconda3\\envs\\trade_env\\lib\\site-packages\\numpy\\core\\_methods.py:30: RuntimeWarning: divide by zero encountered in reduce\n",
      "  return umr_maximum(a, axis, None, out, keepdims, initial, where)\n",
      "c:\\Users\\ihobbang\\anaconda3\\envs\\trade_env\\lib\\site-packages\\pandas\\io\\formats\\format.py:876: RuntimeWarning: divide by zero encountered in long_scalars\n",
      "  lwidth -= np.array([self.adj.len(x) for x in idx]).max() + adjoin_width\n",
      "c:\\Users\\ihobbang\\anaconda3\\envs\\trade_env\\lib\\site-packages\\pandas\\io\\formats\\format.py:1923: RuntimeWarning: divide by zero encountered in long_scalars\n",
      "  w_adjoined = w + adjoin_width\n",
      "c:\\Users\\ihobbang\\anaconda3\\envs\\trade_env\\lib\\site-packages\\pandas\\io\\formats\\format.py:1924: RuntimeWarning: divide by zero encountered in long_scalars\n",
      "  curr_width += w_adjoined\n",
      "c:\\Users\\ihobbang\\anaconda3\\envs\\trade_env\\lib\\site-packages\\pandas\\io\\formats\\format.py:1928: RuntimeWarning: divide by zero encountered in long_scalars\n",
      "  wrap = curr_width + 2 > line_width and i > 0\n",
      "c:\\Users\\ihobbang\\anaconda3\\envs\\trade_env\\lib\\site-packages\\pandas\\io\\formats\\format.py:1926: RuntimeWarning: divide by zero encountered in long_scalars\n",
      "  wrap = curr_width + 1 > line_width and i > 0\n",
      "c:\\Users\\ihobbang\\anaconda3\\envs\\trade_env\\lib\\site-packages\\numpy\\core\\_methods.py:45: RuntimeWarning: divide by zero encountered in reduce\n",
      "  return umr_any(a, axis, dtype, out, keepdims)\n",
      "c:\\Users\\ihobbang\\anaconda3\\envs\\trade_env\\lib\\site-packages\\pandas\\core\\dtypes\\missing.py:262: RuntimeWarning: divide by zero encountered in isnan\n",
      "  result = np.isnan(values)\n",
      "c:\\Users\\ihobbang\\anaconda3\\envs\\trade_env\\lib\\site-packages\\pandas\\io\\formats\\format.py:1373: RuntimeWarning: divide by zero encountered in invert\n",
      "  imask = (~mask).ravel()\n",
      "c:\\Users\\ihobbang\\anaconda3\\envs\\trade_env\\lib\\site-packages\\pandas\\io\\formats\\format.py:1416: RuntimeWarning: divide by zero encountered in absolute\n",
      "  abs_vals = np.abs(self.values)\n",
      "c:\\Users\\ihobbang\\anaconda3\\envs\\trade_env\\lib\\site-packages\\pandas\\io\\formats\\format.py:1420: RuntimeWarning: divide by zero encountered in greater\n",
      "  has_large_values = (abs_vals > 1e6).any()\n",
      "c:\\Users\\ihobbang\\anaconda3\\envs\\trade_env\\lib\\site-packages\\pandas\\io\\formats\\format.py:1422: RuntimeWarning: divide by zero encountered in less\n",
      "  (abs_vals < 10 ** (-self.digits)) & (abs_vals > 0)\n",
      "c:\\Users\\ihobbang\\anaconda3\\envs\\trade_env\\lib\\site-packages\\pandas\\io\\formats\\format.py:1422: RuntimeWarning: divide by zero encountered in greater\n",
      "  (abs_vals < 10 ** (-self.digits)) & (abs_vals > 0)\n",
      "c:\\Users\\ihobbang\\anaconda3\\envs\\trade_env\\lib\\site-packages\\pandas\\io\\formats\\format.py:1422: RuntimeWarning: divide by zero encountered in bitwise_and\n",
      "  (abs_vals < 10 ** (-self.digits)) & (abs_vals > 0)\n"
     ]
    },
    {
     "data": {
      "text/html": [
       "<div>\n",
       "<style scoped>\n",
       "    .dataframe tbody tr th:only-of-type {\n",
       "        vertical-align: middle;\n",
       "    }\n",
       "\n",
       "    .dataframe tbody tr th {\n",
       "        vertical-align: top;\n",
       "    }\n",
       "\n",
       "    .dataframe thead th {\n",
       "        text-align: right;\n",
       "    }\n",
       "</style>\n",
       "<table border=\"1\" class=\"dataframe\">\n",
       "  <thead>\n",
       "    <tr style=\"text-align: right;\">\n",
       "      <th></th>\n",
       "      <th>0</th>\n",
       "      <th>ema20</th>\n",
       "    </tr>\n",
       "  </thead>\n",
       "  <tbody>\n",
       "    <tr>\n",
       "      <th>0</th>\n",
       "      <td>100</td>\n",
       "      <td>100.000000</td>\n",
       "    </tr>\n",
       "    <tr>\n",
       "      <th>1</th>\n",
       "      <td>105</td>\n",
       "      <td>100.476190</td>\n",
       "    </tr>\n",
       "    <tr>\n",
       "      <th>2</th>\n",
       "      <td>110</td>\n",
       "      <td>101.383220</td>\n",
       "    </tr>\n",
       "    <tr>\n",
       "      <th>3</th>\n",
       "      <td>115</td>\n",
       "      <td>102.680056</td>\n",
       "    </tr>\n",
       "    <tr>\n",
       "      <th>4</th>\n",
       "      <td>120</td>\n",
       "      <td>104.329575</td>\n",
       "    </tr>\n",
       "  </tbody>\n",
       "</table>\n",
       "</div>"
      ],
      "text/plain": [
       "     0       ema20\n",
       "0  100  100.000000\n",
       "1  105  100.476190\n",
       "2  110  101.383220\n",
       "3  115  102.680056\n",
       "4  120  104.329575"
      ]
     },
     "execution_count": 6,
     "metadata": {},
     "output_type": "execute_result"
    }
   ],
   "source": [
    "import pandas as pd\n",
    "close_prices = [100, 105, 110, 115, 120, 125, 130, 135, 140, 145, 150]\n",
    "df = pd.DataFrame(close_prices)\n",
    "df['ema20'] = df.ewm(span=20, adjust=False).mean()\n",
    "df.head()"
   ]
  },
  {
   "cell_type": "code",
   "execution_count": 7,
   "metadata": {},
   "outputs": [
    {
     "name": "stderr",
     "output_type": "stream",
     "text": [
      "c:\\Users\\ihobbang\\anaconda3\\envs\\trade_env\\lib\\site-packages\\pandas\\core\\internals\\managers.py:226: RuntimeWarning: divide by zero encountered in equal\n",
      "  if (new_blknos == -1).any():\n"
     ]
    }
   ],
   "source": [
    "import sqlite3\n",
    "\n",
    "def insert_df_to_db(db_name, table_name, df, option=\"replace\"):\n",
    "   with sqlite3.connect('{}.db'.format(db_name)) as con:\n",
    "       df.to_sql(table_name, con, if_exists=option)\n",
    "\n",
    "insert_df_to_db(\"test\", 'universe', df)"
   ]
  },
  {
   "cell_type": "code",
   "execution_count": 1,
   "metadata": {},
   "outputs": [
    {
     "name": "stderr",
     "output_type": "stream",
     "text": [
      "c:\\Users\\ihobbang\\anaconda3\\envs\\trade_env\\lib\\site-packages\\numpy\\core\\getlimits.py:174: RuntimeWarning: divide by zero encountered in exp2\n",
      "  eps=exp2(ld(-112)),\n",
      "c:\\Users\\ihobbang\\anaconda3\\envs\\trade_env\\lib\\site-packages\\numpy\\core\\getlimits.py:53: RuntimeWarning: divide by zero encountered in log10\n",
      "  self.precision = int(-log10(self.eps))\n",
      "c:\\Users\\ihobbang\\anaconda3\\envs\\trade_env\\lib\\site-packages\\numpy\\core\\getlimits.py:54: RuntimeWarning: divide by zero encountered in power\n",
      "  self.resolution = float_to_float(float_conv(10) ** (-self.precision))\n",
      "c:\\Users\\ihobbang\\anaconda3\\envs\\trade_env\\lib\\site-packages\\numpy\\core\\getlimits.py:186: RuntimeWarning: divide by zero encountered in exp2\n",
      "  epsneg_f80 = exp2(ld(-64))\n",
      "c:\\Users\\ihobbang\\anaconda3\\envs\\trade_env\\lib\\site-packages\\numpy\\core\\getlimits.py:187: RuntimeWarning: divide by zero encountered in exp2\n",
      "  tiny_f80 = exp2(ld(-16382))\n",
      "c:\\Users\\ihobbang\\anaconda3\\envs\\trade_env\\lib\\site-packages\\numpy\\core\\getlimits.py:201: RuntimeWarning: divide by zero encountered in exp2\n",
      "  eps=exp2(ld(-63)),\n",
      "c:\\Users\\ihobbang\\anaconda3\\envs\\trade_env\\lib\\site-packages\\numpy\\core\\getlimits.py:213: RuntimeWarning: divide by zero encountered in nextafter\n",
      "  huge_dd = (umath.nextafter(ld(inf), ld(0))\n",
      "c:\\Users\\ihobbang\\anaconda3\\envs\\trade_env\\lib\\site-packages\\numpy\\core\\getlimits.py:226: RuntimeWarning: divide by zero encountered in exp2\n",
      "  eps=exp2(ld(-105)),\n",
      "c:\\Users\\ihobbang\\anaconda3\\envs\\trade_env\\lib\\site-packages\\numpy\\core\\getlimits.py:227: RuntimeWarning: divide by zero encountered in exp2\n",
      "  epsneg= exp2(ld(-106)),\n",
      "c:\\Users\\ihobbang\\anaconda3\\envs\\trade_env\\lib\\site-packages\\numpy\\core\\getlimits.py:229: RuntimeWarning: divide by zero encountered in exp2\n",
      "  tiny=exp2(ld(-1022)))\n",
      "c:\\Users\\ihobbang\\anaconda3\\envs\\trade_env\\lib\\site-packages\\numpy\\__init__.py:249: RuntimeWarning: divide by zero encountered in subtract\n",
      "  if not abs(x.dot(x) - 2.0) < 1e-5:\n",
      "c:\\Users\\ihobbang\\anaconda3\\envs\\trade_env\\lib\\site-packages\\numpy\\__init__.py:249: RuntimeWarning: divide by zero encountered in absolute\n",
      "  if not abs(x.dot(x) - 2.0) < 1e-5:\n",
      "<frozen importlib._bootstrap>:219: RuntimeWarning: divide by zero encountered in add\n",
      "c:\\Users\\ihobbang\\anaconda3\\envs\\trade_env\\lib\\site-packages\\pandas\\tseries\\offsets.py:2547: RuntimeWarning: divide by zero encountered in add\n",
      "  _inc = Timedelta(microseconds=1000)\n",
      "c:\\Users\\ihobbang\\anaconda3\\envs\\trade_env\\lib\\site-packages\\pandas\\tseries\\offsets.py:2679: RuntimeWarning: divide by zero encountered in add\n",
      "  _inc = Timedelta(days=1)\n",
      "c:\\Users\\ihobbang\\anaconda3\\envs\\trade_env\\lib\\site-packages\\pandas\\tseries\\offsets.py:2684: RuntimeWarning: divide by zero encountered in add\n",
      "  _inc = Timedelta(hours=1)\n",
      "c:\\Users\\ihobbang\\anaconda3\\envs\\trade_env\\lib\\site-packages\\pandas\\tseries\\offsets.py:2689: RuntimeWarning: divide by zero encountered in add\n",
      "  _inc = Timedelta(minutes=1)\n",
      "c:\\Users\\ihobbang\\anaconda3\\envs\\trade_env\\lib\\site-packages\\pandas\\tseries\\offsets.py:2694: RuntimeWarning: divide by zero encountered in add\n",
      "  _inc = Timedelta(seconds=1)\n",
      "c:\\Users\\ihobbang\\anaconda3\\envs\\trade_env\\lib\\site-packages\\pandas\\tseries\\offsets.py:2699: RuntimeWarning: divide by zero encountered in add\n",
      "  _inc = Timedelta(milliseconds=1)\n",
      "c:\\Users\\ihobbang\\anaconda3\\envs\\trade_env\\lib\\site-packages\\pandas\\tseries\\offsets.py:2704: RuntimeWarning: divide by zero encountered in add\n",
      "  _inc = Timedelta(microseconds=1)\n",
      "c:\\Users\\ihobbang\\anaconda3\\envs\\trade_env\\lib\\site-packages\\pandas\\tseries\\offsets.py:2709: RuntimeWarning: divide by zero encountered in add\n",
      "  _inc = Timedelta(nanoseconds=1)\n"
     ]
    }
   ],
   "source": [
    "from api.Kiwoom import *\n",
    "from util.make_up_universe import *\n",
    "from util.db_helper import *\n",
    "from util.time_helper import *\n",
    "from util.notifier import *\n",
    "import math\n",
    "import traceback\n",
    "import pandas as pd\n",
    "\n",
    "class RSIStrategy(QThread):\n",
    "    def __init__(self):\n",
    "        QThread.__init__(self)\n",
    "        self.strategy_name = \"RSIStrategy\"\n",
    "        self.kiwoom = Kiwoom()\n",
    "\n",
    "        # 유니버스 정보를 담을 딕셔너리\n",
    "        self.universe = {}\n",
    "\n",
    "        # 계좌 예수금\n",
    "        self.deposit = 0\n",
    "\n",
    "        # 초기화 함수 성공 여부 확인 변수\n",
    "        self.is_init_success = False\n",
    "\n",
    "        self.init_strategy()\n",
    "\n",
    "    def init_strategy(self):\n",
    "        \"\"\"전략 초기화 기능을 수행하는 함수\"\"\"\n",
    "        try:\n",
    "            # 유니버스 조회, 없으면 생성\n",
    "            self.check_and_get_universe()\n",
    "\n",
    "            # # 가격 정보를 조회, 필요하면 생성\n",
    "            # self.check_and_get_price_data()\n",
    "\n",
    "            # # Kiwoom > 주문정보 확인\n",
    "            # self.kiwoom.get_order()\n",
    "\n",
    "            # # Kiwoom > 잔고 확인\n",
    "            # self.kiwoom.get_balance()\n",
    "\n",
    "            # # Kiwoom > 예수금 확인\n",
    "            # self.deposit = self.kiwoom.get_deposit()\n",
    "\n",
    "            # # 유니버스 실시간 체결정보 등록\n",
    "            # self.set_universe_real_time()\n",
    "\n",
    "            # self.is_init_success = True\n",
    "\n",
    "        except Exception as e:\n",
    "            print(traceback.format_exc())\n",
    "            # LINE 메시지를 보내는 부분\n",
    "            send_message(traceback.format_exc(), RSI_STRATEGY_MESSAGE_TOKEN)\n",
    "\n",
    "    def check_and_get_universe(self):\n",
    "        \"\"\"유니버스가 존재하는지 확인하고 없으면 생성하는 함수\"\"\"\n",
    "        if not check_table_exist(self.strategy_name, 'universe'):\n",
    "            universe_list = get_universe()\n",
    "            print(universe_list)\n",
    "            universe = {}\n",
    "            # 오늘 날짜를 20210101 형태로 지정\n",
    "            now = datetime.now().strftime(\"%Y%m%d\")\n",
    "\n",
    "            # KOSPI(0)에 상장된 모든 종목 코드를 가져와 kospi_code_list에 저장\n",
    "            kospi_code_list = self.kiwoom.get_code_list_by_market(\"0\")\n",
    "\n",
    "            # KOSDAQ(10)에 상장된 모든 종목 코드를 가져와 kosdaq_code_list에 저장\n",
    "            kosdaq_code_list = self.kiwoom.get_code_list_by_market(\"10\")\n",
    "\n",
    "            for code in kospi_code_list+kosdaq_code_list:\n",
    "                # 모든 종목 코드를 바탕으로 반복문 수행\n",
    "                code_name = self.kiwoom.get_master_code_name(code)\n",
    "\n",
    "                # 얻어온 종목명이 유니버스에 포함되어 있다면 딕셔너리에 추가\n",
    "                if code_name in universe_list:\n",
    "                    universe[code] = code_name\n",
    "\n",
    "            #코드, 종목명, 생성일자자를 열로 가지는 DaaFrame 생성\n",
    "            universe_df = pd.DataFrame(universe.items(), columns=['code', 'code_name'])\n",
    "\n",
    "        return universe_df\n",
    "            # universe라는 테이블명으로 Dataframe을 DB에 저장함\n",
    "        #     insert_df_to_db(self.strategy_name, 'universe', universe_df)\n",
    "\n",
    "        # sql = \"select * from universe\"\n",
    "        # cur = execute_sql(self.strategy_name, sql)\n",
    "        # universe_list = cur.fetchall()\n",
    "        # for item in universe_list:\n",
    "        #     idx, code, code_name, created_at = item\n",
    "        #     self.universe[code] = {\n",
    "        #         'code_name': code_name\n",
    "        #     }\n",
    "        # print(self.universe)"
   ]
  },
  {
   "cell_type": "code",
   "execution_count": 2,
   "metadata": {},
   "outputs": [
    {
     "name": "stdout",
     "output_type": "stream",
     "text": [
      "connected\n",
      "8046689711 8046689711;\n"
     ]
    },
    {
     "name": "stderr",
     "output_type": "stream",
     "text": [
      "c:\\Users\\ihobbang\\anaconda3\\envs\\trade_env\\lib\\site-packages\\pandas\\core\\internals\\managers.py:226: RuntimeWarning: divide by zero encountered in equal\n",
      "  if (new_blknos == -1).any():\n",
      "c:\\Users\\ihobbang\\anaconda3\\envs\\trade_env\\lib\\site-packages\\numpy\\core\\_methods.py:45: RuntimeWarning: divide by zero encountered in reduce\n",
      "  return umr_any(a, axis, dtype, out, keepdims)\n",
      "c:\\Users\\ihobbang\\anaconda3\\envs\\trade_env\\lib\\site-packages\\numpy\\core\\_methods.py:48: RuntimeWarning: divide by zero encountered in reduce\n",
      "  return umr_all(a, axis, dtype, out, keepdims)\n",
      "c:\\Users\\ihobbang\\anaconda3\\envs\\trade_env\\lib\\site-packages\\numpy\\core\\fromnumeric.py:90: RuntimeWarning: divide by zero encountered in reduce\n",
      "  return ufunc.reduce(obj, axis, dtype, out, **passkwargs)\n",
      "c:\\Users\\ihobbang\\anaconda3\\envs\\trade_env\\lib\\site-packages\\numpy\\lib\\function_base.py:2167: RuntimeWarning: divide by zero encountered in ? (vectorized)\n",
      "  outputs = ufunc(*inputs)\n",
      "c:\\Users\\ihobbang\\anaconda3\\envs\\trade_env\\lib\\site-packages\\pandas\\core\\strings.py:2092: RuntimeWarning: divide by zero encountered in invert\n",
      "  inferred_dtype = lib.infer_dtype(values, skipna=True)\n",
      "c:\\Users\\ihobbang\\anaconda3\\envs\\trade_env\\lib\\site-packages\\numpy\\lib\\function_base.py:4400: RuntimeWarning: divide by zero encountered in less\n",
      "  inside_bounds = (obj < N) & (obj >= -N)\n",
      "c:\\Users\\ihobbang\\anaconda3\\envs\\trade_env\\lib\\site-packages\\numpy\\lib\\function_base.py:4400: RuntimeWarning: divide by zero encountered in greater_equal\n",
      "  inside_bounds = (obj < N) & (obj >= -N)\n",
      "c:\\Users\\ihobbang\\anaconda3\\envs\\trade_env\\lib\\site-packages\\numpy\\lib\\function_base.py:4400: RuntimeWarning: divide by zero encountered in bitwise_and\n",
      "  inside_bounds = (obj < N) & (obj >= -N)\n",
      "c:\\Users\\ihobbang\\anaconda3\\envs\\trade_env\\lib\\site-packages\\numpy\\lib\\function_base.py:4408: RuntimeWarning: divide by zero encountered in greater_equal\n",
      "  positive_indices = obj >= 0\n",
      "c:\\Users\\ihobbang\\anaconda3\\envs\\trade_env\\lib\\site-packages\\pandas\\core\\indexing.py:1635: RuntimeWarning: divide by zero encountered in less\n",
      "  missing = (indexer < 0).sum()\n",
      "c:\\Users\\ihobbang\\anaconda3\\envs\\trade_env\\lib\\site-packages\\numpy\\core\\_methods.py:38: RuntimeWarning: divide by zero encountered in reduce\n",
      "  return umr_sum(a, axis, dtype, out, keepdims, initial, where)\n",
      "c:\\Users\\ihobbang\\anaconda3\\envs\\trade_env\\lib\\site-packages\\pandas\\core\\indexers.py:206: RuntimeWarning: divide by zero encountered in less\n",
      "  mask = indices < 0\n",
      "c:\\Users\\ihobbang\\anaconda3\\envs\\trade_env\\lib\\site-packages\\pandas\\core\\indexers.py:211: RuntimeWarning: divide by zero encountered in greater_equal\n",
      "  mask = (indices >= n) | (indices < 0)\n",
      "c:\\Users\\ihobbang\\anaconda3\\envs\\trade_env\\lib\\site-packages\\pandas\\core\\indexers.py:211: RuntimeWarning: divide by zero encountered in less\n",
      "  mask = (indices >= n) | (indices < 0)\n",
      "c:\\Users\\ihobbang\\anaconda3\\envs\\trade_env\\lib\\site-packages\\pandas\\core\\indexers.py:211: RuntimeWarning: divide by zero encountered in bitwise_or\n",
      "  mask = (indices >= n) | (indices < 0)\n",
      "c:\\Users\\ihobbang\\anaconda3\\envs\\trade_env\\lib\\site-packages\\pandas\\core\\internals\\managers.py:1389: RuntimeWarning: divide by zero encountered in equal\n",
      "  if ((indexer == -1) | (indexer >= n)).any():\n",
      "c:\\Users\\ihobbang\\anaconda3\\envs\\trade_env\\lib\\site-packages\\pandas\\core\\internals\\managers.py:1389: RuntimeWarning: divide by zero encountered in greater_equal\n",
      "  if ((indexer == -1) | (indexer >= n)).any():\n",
      "c:\\Users\\ihobbang\\anaconda3\\envs\\trade_env\\lib\\site-packages\\pandas\\core\\internals\\managers.py:1389: RuntimeWarning: divide by zero encountered in bitwise_or\n",
      "  if ((indexer == -1) | (indexer >= n)).any():\n",
      "c:\\Users\\ihobbang\\anaconda3\\envs\\trade_env\\lib\\site-packages\\pandas\\core\\ops\\array_ops.py:274: RuntimeWarning: divide by zero encountered in bitwise_and\n",
      "  result = op(x, y)\n"
     ]
    },
    {
     "name": "stdout",
     "output_type": "stream",
     "text": [
      "['LG에너지솔루션', '삼성바이오로직스', '두산에너빌리티', '하이브', '크래프톤', 'LG이노텍', '코스모신소재', '한전기술', 'DB하이텍', '롯데쇼핑', 'LIG넥스원', '현대위아', '솔루엠', '명신산업', 'SK가스', '아이에스동서', '이수페타시스', 'SK리츠', '효성중공업', '해성디에스', '우리종금', 'LF', '빙그레', '백광산업', '케이씨텍', '코리아써키트', 'E1', '에어부산', '한미글로벌', '흥아해운', '잇츠한불', '에스엠벡셀', '동양', '한전산업', '테이팩스', '무림P&P', '화승인더', 'NI스틸', '대영포장', '아시아나IDT', '대구백화점', '한국공항', '토니모리', '다이나믹디자인', '한국화장품제조', '무림페이퍼', '신영와코루', '동원금속', '메타랩스', '상신브레이크', '태평양물산', '천일고속', '한익스프레스', '우진플라임', '갤럭시아에스엠', '모나미']\n",
      "['LG에너지솔루션', '삼성바이오로직스', '두산에너빌리티', '하이브', '크래프톤', 'LG이노텍', '코스모신소재', '한전기술', 'DB하이텍', '롯데쇼핑', 'LIG넥스원', '현대위아', '솔루엠', '명신산업', 'SK가스', '아이에스동서', '이수페타시스', 'SK리츠', '효성중공업', '해성디에스', '우리종금', 'LF', '빙그레', '백광산업', '케이씨텍', '코리아써키트', 'E1', '에어부산', '한미글로벌', '흥아해운', '잇츠한불', '에스엠벡셀', '동양', '한전산업', '테이팩스', '무림P&P', '화승인더', 'NI스틸', '대영포장', '아시아나IDT', '대구백화점', '한국공항', '토니모리', '다이나믹디자인', '한국화장품제조', '무림페이퍼', '신영와코루', '동원금속', '메타랩스', '상신브레이크', 'DSR', '태평양물산', '천일고속', '한익스프레스', '우진플라임', '갤럭시아에스엠', '모나미']\n"
     ]
    },
    {
     "name": "stderr",
     "output_type": "stream",
     "text": [
      "c:\\Users\\ihobbang\\anaconda3\\envs\\trade_env\\lib\\site-packages\\pandas\\io\\sql.py:1526: RuntimeWarning: divide by zero encountered in invert\n",
      "  col_type = lib.infer_dtype(col, skipna=True)\n"
     ]
    }
   ],
   "source": [
    "#from strategy.RSIStrategy import *\n",
    "import sys\n",
    "\n",
    "app = QApplication(sys.argv)\n",
    "\n",
    "rsi_strategy = RSIStrategy()\n",
    "a = rsi_strategy.check_and_get_universe()\n",
    "a.head()\n",
    "\n",
    "import sqlite3\n",
    "\n",
    "def insert_df_to_db(db_name, table_name, df, option=\"replace\"):\n",
    "   with sqlite3.connect('{}.db'.format(db_name)) as con:\n",
    "       df.to_sql(table_name, con, if_exists=option)\n",
    "\n",
    "insert_df_to_db(\"RSIStrategy\", 'universe', a)\n",
    "app.exec_()"
   ]
  },
  {
   "cell_type": "code",
   "execution_count": 3,
   "metadata": {},
   "outputs": [
    {
     "ename": "NameError",
     "evalue": "name 'a' is not defined",
     "output_type": "error",
     "traceback": [
      "\u001b[1;31m---------------------------------------------------------------------------\u001b[0m",
      "\u001b[1;31mNameError\u001b[0m                                 Traceback (most recent call last)",
      "Cell \u001b[1;32mIn[3], line 1\u001b[0m\n\u001b[1;32m----> 1\u001b[0m a\u001b[39m.\u001b[39mhead()\n",
      "\u001b[1;31mNameError\u001b[0m: name 'a' is not defined"
     ]
    }
   ],
   "source": [
    "a.head()"
   ]
  }
 ],
 "metadata": {
  "kernelspec": {
   "display_name": "trading",
   "language": "python",
   "name": "python3"
  },
  "language_info": {
   "codemirror_mode": {
    "name": "ipython",
    "version": 3
   },
   "file_extension": ".py",
   "mimetype": "text/x-python",
   "name": "python",
   "nbconvert_exporter": "python",
   "pygments_lexer": "ipython3",
   "version": "3.8.13"
  },
  "orig_nbformat": 4
 },
 "nbformat": 4,
 "nbformat_minor": 2
}
