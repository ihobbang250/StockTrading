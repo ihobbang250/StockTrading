{
 "cells": [
  {
   "cell_type": "code",
   "execution_count": 1,
   "metadata": {},
   "outputs": [
    {
     "name": "stderr",
     "output_type": "stream",
     "text": [
      "c:\\Users\\ihobbang\\anaconda3\\envs\\trading\\lib\\site-packages\\numpy\\core\\getlimits.py:172: RuntimeWarning: divide by zero encountered in exp2\n",
      "  eps=exp2(ld(-112)),\n",
      "c:\\Users\\ihobbang\\anaconda3\\envs\\trading\\lib\\site-packages\\numpy\\core\\getlimits.py:51: RuntimeWarning: divide by zero encountered in log10\n",
      "  self.precision = int(-log10(self.eps))\n",
      "c:\\Users\\ihobbang\\anaconda3\\envs\\trading\\lib\\site-packages\\numpy\\core\\getlimits.py:52: RuntimeWarning: divide by zero encountered in power\n",
      "  self.resolution = float_to_float(float_conv(10) ** (-self.precision))\n",
      "c:\\Users\\ihobbang\\anaconda3\\envs\\trading\\lib\\site-packages\\numpy\\core\\getlimits.py:184: RuntimeWarning: divide by zero encountered in exp2\n",
      "  epsneg_f80 = exp2(ld(-64))\n",
      "c:\\Users\\ihobbang\\anaconda3\\envs\\trading\\lib\\site-packages\\numpy\\core\\getlimits.py:185: RuntimeWarning: divide by zero encountered in exp2\n",
      "  tiny_f80 = exp2(ld(-16382))\n",
      "c:\\Users\\ihobbang\\anaconda3\\envs\\trading\\lib\\site-packages\\numpy\\core\\getlimits.py:199: RuntimeWarning: divide by zero encountered in exp2\n",
      "  eps=exp2(ld(-63)),\n",
      "c:\\Users\\ihobbang\\anaconda3\\envs\\trading\\lib\\site-packages\\numpy\\core\\getlimits.py:211: RuntimeWarning: divide by zero encountered in nextafter\n",
      "  huge_dd = (umath.nextafter(ld(inf), ld(0))\n",
      "c:\\Users\\ihobbang\\anaconda3\\envs\\trading\\lib\\site-packages\\numpy\\core\\getlimits.py:224: RuntimeWarning: divide by zero encountered in exp2\n",
      "  eps=exp2(ld(-105)),\n",
      "c:\\Users\\ihobbang\\anaconda3\\envs\\trading\\lib\\site-packages\\numpy\\core\\getlimits.py:225: RuntimeWarning: divide by zero encountered in exp2\n",
      "  epsneg= exp2(ld(-106)),\n",
      "c:\\Users\\ihobbang\\anaconda3\\envs\\trading\\lib\\site-packages\\numpy\\core\\getlimits.py:227: RuntimeWarning: divide by zero encountered in exp2\n",
      "  tiny=exp2(ld(-1022)))\n",
      "c:\\Users\\ihobbang\\anaconda3\\envs\\trading\\lib\\site-packages\\numpy\\__init__.py:340: RuntimeWarning: divide by zero encountered in subtract\n",
      "  if not abs(x.dot(x) - 2.0) < 1e-5:\n",
      "c:\\Users\\ihobbang\\anaconda3\\envs\\trading\\lib\\site-packages\\numpy\\__init__.py:340: RuntimeWarning: divide by zero encountered in absolute\n",
      "  if not abs(x.dot(x) - 2.0) < 1e-5:\n",
      "<frozen importlib._bootstrap>:219: RuntimeWarning: divide by zero encountered in add\n"
     ]
    },
    {
     "name": "stdout",
     "output_type": "stream",
     "text": [
      "connected\n",
      "8046689711 8046689711;\n"
     ]
    }
   ],
   "source": [
    "from api.Kiwoom import *\n",
    "import sys\n",
    "from PyQt5.QtWidgets import QApplication\n",
    "\n",
    "app = QApplication(sys.argv)\n",
    "kiwoom = Kiwoom()\n",
    "\n",
    "window = QMainWindow()\n",
    "window.setWindowTitle(\"Quit Example\")\n",
    "\n",
    "# Create a quit button\n",
    "quit_button = QPushButton(\"Quit\", window)\n",
    "quit_button.clicked.connect(app.quit)\n",
    "\n",
    "# Show the main window\n",
    "window.show()\n",
    "\n",
    "app.quit()"
   ]
  },
  {
   "cell_type": "code",
   "execution_count": 17,
   "metadata": {},
   "outputs": [],
   "source": [
    "order_result = kiwoom.send_order('send_buy_order', '1001', 1, '252670', 3000, 2540, '00')\n",
    "print(order_result)"
   ]
  },
  {
   "cell_type": "code",
   "execution_count": 23,
   "metadata": {},
   "outputs": [
    {
     "name": "stdout",
     "output_type": "stream",
     "text": [
      "[Kiwoom] _on_receive_msg is called 0002 / opw00018_req / opw00018 / [100000] 모의투자 조회완료\n",
      "[Kiwoom] _on_receive_tr_data is called 0002 / opw00018_req / opw00018\n",
      "{'252670': {'종목명': 'KODEX 200선물인버스2X', '보유수량': 4001, '매입가': 2537, '수익률': -0.77, '현재가': 2535, '매입금액': 10150140, '매매가능수량': 4001}}\n"
     ]
    }
   ],
   "source": [
    "acc_balance = kiwoom.get_balance()\n",
    "print(acc_balance)"
   ]
  },
  {
   "cell_type": "code",
   "execution_count": 22,
   "metadata": {},
   "outputs": [],
   "source": [
    "app.exit()"
   ]
  }
 ],
 "metadata": {
  "kernelspec": {
   "display_name": "trading",
   "language": "python",
   "name": "python3"
  },
  "language_info": {
   "codemirror_mode": {
    "name": "ipython",
    "version": 3
   },
   "file_extension": ".py",
   "mimetype": "text/x-python",
   "name": "python",
   "nbconvert_exporter": "python",
   "pygments_lexer": "ipython3",
   "version": "3.8.10"
  },
  "orig_nbformat": 4
 },
 "nbformat": 4,
 "nbformat_minor": 2
}
